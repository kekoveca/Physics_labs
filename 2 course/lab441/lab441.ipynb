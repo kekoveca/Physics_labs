{
 "cells": [
  {
   "cell_type": "code",
   "execution_count": 136,
   "metadata": {},
   "outputs": [],
   "source": [
    "import pandas as pd\n",
    "import numpy as np\n",
    "import matplotlib.pyplot as plt"
   ]
  },
  {
   "cell_type": "code",
   "execution_count": 137,
   "metadata": {},
   "outputs": [],
   "source": [
    "df = pd.read_excel('lab441.xlsx')"
   ]
  },
  {
   "cell_type": "code",
   "execution_count": 142,
   "metadata": {},
   "outputs": [
    {
     "name": "stdout",
     "output_type": "stream",
     "text": [
      "2.1060005327479 0.21422664438757408\n"
     ]
    }
   ],
   "source": [
    "lambdas = list(np.array(df.iloc[10:15, 1]))\n",
    "sins_pos = list(np.array(df.iloc[18:23,4]))\n",
    "sins_neg = list(np.abs(np.array(df.iloc[18:23,7])))\n",
    "\n",
    "plf = np.polyfit(lambdas, sins_pos, 1, full = True)\n",
    "sins_pos_new = np.polyval(plf[0], lambdas)\n",
    "errs_pos = plf[1]\n",
    "out_1 = 1/plf[0][0] * 10**-3, plf[1][0] / 5 * 10**6\n",
    "\n",
    "plf = np.polyfit(lambdas, sins_neg, 1, full = True)\n",
    "sins_neg_new = np.polyval(plf[0], lambdas)\n",
    "errs_neg = plf[1]\n",
    "out_2 = 1/plf[0][0] * 10**-3, plf[1][0] / 5 * 10**6\n",
    "\n",
    "res = (out_1[0] + out_2[0])/2\n",
    "sgma = (out_1[1] + out_2[1])/2\n",
    "\n",
    "print(res, sgma)"
   ]
  },
  {
   "cell_type": "code",
   "execution_count": 139,
   "metadata": {},
   "outputs": [],
   "source": [
    "%%capture\n",
    "plt.figure(dpi=400)\n",
    "plt.scatter(lambdas, sins_pos, s= 20)\n",
    "plt.scatter(lambdas, sins_neg, s= 20)\n",
    "plt.plot(lambdas, sins_pos_new, linestyle = '--', label = 'm = 1')\n",
    "plt.plot(lambdas, sins_neg_new, linestyle = '--', label = 'm = -1')\n",
    "plt.legend()\n",
    "plt.xlabel('$\\lambda$, нм')\n",
    "plt.ylabel('$\\sin \\\\varphi$')\n",
    "plt.title('Зависимость $\\sin \\\\varphi$ от $\\lambda$')\n",
    "plt.grid(True, alpha = 0.6)\n",
    "plt.savefig('plot1.png')"
   ]
  },
  {
   "cell_type": "code",
   "execution_count": 166,
   "metadata": {},
   "outputs": [],
   "source": [
    "m1 = np.abs(np.array(df.iloc[23:26, 15]))\n",
    "d1 = np.abs(np.array(df.iloc[23:26, 16]))\n",
    "\n",
    "m2 = np.abs(np.array(df.iloc[26:29, 15]))\n",
    "d2 = np.abs(np.array(df.iloc[26:29, 16]))\n",
    "\n",
    "m1 = list(m1)\n",
    "d1 = list(d1)\n",
    "\n",
    "m2 = list(m2)\n",
    "d2 = list(d2)"
   ]
  },
  {
   "cell_type": "code",
   "execution_count": 170,
   "metadata": {},
   "outputs": [],
   "source": [
    "from scipy.interpolate import interp1d\n",
    "x = np.linspace(1, 3, 100)\n",
    "f = interp1d(m1, d1, kind = 'quadratic', fill_value='extrapolate')\n",
    "y1 = f(x)\n",
    "f = interp1d(m2, d2, kind = 'quadratic', fill_value='extrapolate')\n",
    "y2 = f(x)"
   ]
  },
  {
   "cell_type": "code",
   "execution_count": 171,
   "metadata": {},
   "outputs": [],
   "source": [
    "%%capture\n",
    "plt.figure(dpi=400)\n",
    "plt.scatter(m1, d1)\n",
    "plt.scatter(m2, d2)\n",
    "plt.plot(x, y1)\n",
    "plt.plot(x, y2) \n",
    "plt.xlabel('Номер спектра')\n",
    "plt.ylabel('D, угл.сек/Ангстрем')\n",
    "plt.title('D = f(m)')\n",
    "plt.grid(True, alpha = 0.6)\n",
    "plt.savefig('plot2.png')"
   ]
  }
 ],
 "metadata": {
  "kernelspec": {
   "display_name": "Python 3",
   "language": "python",
   "name": "python3"
  },
  "language_info": {
   "codemirror_mode": {
    "name": "ipython",
    "version": 3
   },
   "file_extension": ".py",
   "mimetype": "text/x-python",
   "name": "python",
   "nbconvert_exporter": "python",
   "pygments_lexer": "ipython3",
   "version": "3.9.13"
  },
  "orig_nbformat": 4,
  "vscode": {
   "interpreter": {
    "hash": "1bd2a7c4b2d14e1560eeb80f98574de4c3ab956474cc52da629933763b0492d1"
   }
  }
 },
 "nbformat": 4,
 "nbformat_minor": 2
}
