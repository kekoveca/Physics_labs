{
 "cells": [
  {
   "cell_type": "code",
   "execution_count": 1,
   "metadata": {},
   "outputs": [],
   "source": [
    "import numpy as np\n",
    "import matplotlib.pyplot as plt\n",
    "\n",
    "### магнит. фокусировка\n",
    "forw_cal = np.loadtxt('data/forw_cal.txt', dtype = float)\n",
    "forw_i = np.loadtxt('data/forw_i.txt', dtype = float)\n",
    "forw_f = np.loadtxt('data/forw_f.txt', dtype = float)\n",
    "backw_cal = np.loadtxt('data/backw_cal.txt', dtype = float)\n",
    "backw_i = np.loadtxt('data/backw_i.txt', dtype = float)\n",
    "backw_f = np.loadtxt('data/backw_f.txt', dtype = float)\n"
   ]
  },
  {
   "cell_type": "code",
   "execution_count": null,
   "metadata": {},
   "outputs": [],
   "source": []
  }
 ],
 "metadata": {
  "kernelspec": {
   "display_name": "Python 3.10.8 64-bit",
   "language": "python",
   "name": "python3"
  },
  "language_info": {
   "codemirror_mode": {
    "name": "ipython",
    "version": 3
   },
   "file_extension": ".py",
   "mimetype": "text/x-python",
   "name": "python",
   "nbconvert_exporter": "python",
   "pygments_lexer": "ipython3",
   "version": "3.10.8"
  },
  "orig_nbformat": 4,
  "vscode": {
   "interpreter": {
    "hash": "b0fa6594d8f4cbf19f97940f81e996739fb7646882a419484c72d19e05852a7e"
   }
  }
 },
 "nbformat": 4,
 "nbformat_minor": 2
}
