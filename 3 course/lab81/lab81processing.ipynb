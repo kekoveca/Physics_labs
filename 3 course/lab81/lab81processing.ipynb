{
 "cells": [
  {
   "cell_type": "code",
   "execution_count": 3,
   "metadata": {},
   "outputs": [],
   "source": [
    "import numpy as np\n",
    "import matplotlib.pyplot as plt\n",
    "import seaborn as sns\n",
    "\n",
    "sns.set_theme(style='whitegrid', font_scale=1.5)"
   ]
  },
  {
   "cell_type": "code",
   "execution_count": 4,
   "metadata": {},
   "outputs": [
    {
     "name": "stdout",
     "output_type": "stream",
     "text": [
      "Отклонения в процентах температуры пирометра от температуры термопары:\n",
      " [4.71698113 5.         5.47798067 5.10948905]\n"
     ]
    }
   ],
   "source": [
    "## Калибровка\n",
    "\n",
    "termopara_V = np.array([41, 34.8, 35.85, 37.1])\n",
    "pirometr_T = np.array([1060, 900, 931, 959])\n",
    "termopara_T = np.array(([1010, 855, 880, 910]))\n",
    "percenteges = (1 - termopara_T/pirometr_T) * 100\n",
    "print(\"Отклонения в процентах температуры пирометра от температуры термопары:\\n\",percenteges)"
   ]
  },
  {
   "cell_type": "code",
   "execution_count": 5,
   "metadata": {},
   "outputs": [],
   "source": [
    "## Яркостная температура колец разная"
   ]
  },
  {
   "cell_type": "code",
   "execution_count": 15,
   "metadata": {},
   "outputs": [
    {
     "data": {
      "text/plain": [
       "array([0.813735, 1.080872, 1.384733, 1.86624 , 2.31876 , 2.837268,\n",
       "       4.562526, 5.136768, 7.531   , 9.247114])"
      ]
     },
     "execution_count": 15,
     "metadata": {},
     "output_type": "execute_result"
    }
   ],
   "source": [
    "## Лампа\n",
    "temp_lampa = np.array([910, 1000, 1100, 1200, 1300, 1400, 1500, 1600, 1700, 1800]) #C\n",
    "V_lampa = np.array([1.605, 1.976, 2.359, 2.916, 3.390, 3.892, 5.374, 5.824, 7.531, 8.618]) #Volts\n",
    "I_lampa = np.array([0.507, 0.547, 0.587, 0.640, 0.684, 0.729, 0.849, 0.882, 1, 1.073]) #Ampers\n",
    "assert V_lampa.size == temp_lampa.size, \"sizes of arrays are not equal\"\n",
    "\n",
    "W = V_lampa * I_lampa\n",
    "\n",
    "xlog = np.log(temp_lampa)\n",
    "y_raw_log = np.log(W)\n",
    "\n",
    "pn = np.polyfit(xlog, y_raw_log, 1)\n",
    "ylog = np.polyval(pn, xlog)\n",
    "\n",
    "T = np.array([920,1020,1130,1240,1345,1450,1560,1670,1780,1890])\n",
    "\n",
    "xTlog = np.log(T)\n",
    "y_T_log = np.log(W)\n",
    "\n",
    "pTn = np.polyfit(xTlog, y_T_log, 1)\n",
    "yTlog = np.polyval(pTn, xTlog)\n",
    "W\n",
    "\n"
   ]
  },
  {
   "cell_type": "code",
   "execution_count": 16,
   "metadata": {},
   "outputs": [],
   "source": [
    "plt.figure(figsize = (16,10), dpi= 250)\n",
    "\n",
    "plt.scatter(xlog, y_raw_log)\n",
    "plt.plot(xlog, ylog, linestyle= '--', label = f'Угол наклона для яркостной температуры\\n$k(T_\\\\text{{ярк}})$ = {pn[0]:.1f}')\n",
    "\n",
    "plt.scatter(xTlog, y_T_log)\n",
    "plt.plot(xTlog, yTlog, linestyle= '--', label = f'Угол наклона для термодинамической температуры\\nk($T$) = {pTn[0]:.1f}')\n",
    "\n",
    "\n",
    "plt.xlabel('$\\ln T$')\n",
    "plt.ylabel('$\\ln W$')\n",
    "plt.legend()\n",
    "plt.savefig('plotLog')"
   ]
  },
  {
   "cell_type": "code",
   "execution_count": null,
   "metadata": {},
   "outputs": [
    {
     "name": "stdout",
     "output_type": "stream",
     "text": [
      "5.657857167283743e-12\n"
     ]
    }
   ],
   "source": [
    "sigma = W[-2]/(0.244 * 0.36 * 1973 ** 4)\n",
    "print(sigma)"
   ]
  },
  {
   "cell_type": "code",
   "execution_count": 9,
   "metadata": {},
   "outputs": [
    {
     "name": "stdout",
     "output_type": "stream",
     "text": [
      "6.633200778216457e-34\n"
     ]
    }
   ],
   "source": [
    "tmp = 2*np.pi**5 * (1.381 * 10**(-23))**4 / (15 * 299792458**2 * sigma*10000)\n",
    "print(tmp**(1./3))"
   ]
  },
  {
   "cell_type": "code",
   "execution_count": 10,
   "metadata": {},
   "outputs": [],
   "source": [
    "cons =  (2*np.pi**5 * (1.381 * 10**(-23))**4 / (15 * 299792458**2))**(1./3) * (-1./3) * (sigma*10000)**(-4./3) * 0.03\n"
   ]
  },
  {
   "cell_type": "code",
   "execution_count": 11,
   "metadata": {},
   "outputs": [
    {
     "data": {
      "text/plain": [
       "-1.1723874573173355e-28"
      ]
     },
     "execution_count": 11,
     "metadata": {},
     "output_type": "execute_result"
    }
   ],
   "source": [
    "cons"
   ]
  },
  {
   "cell_type": "code",
   "execution_count": null,
   "metadata": {},
   "outputs": [],
   "source": []
  }
 ],
 "metadata": {
  "kernelspec": {
   "display_name": "Python 3",
   "language": "python",
   "name": "python3"
  },
  "language_info": {
   "codemirror_mode": {
    "name": "ipython",
    "version": 3
   },
   "file_extension": ".py",
   "mimetype": "text/x-python",
   "name": "python",
   "nbconvert_exporter": "python",
   "pygments_lexer": "ipython3",
   "version": "3.11.6"
  }
 },
 "nbformat": 4,
 "nbformat_minor": 2
}
